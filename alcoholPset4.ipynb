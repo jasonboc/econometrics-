{
 "cells": [
  {
   "cell_type": "markdown",
   "metadata": {},
   "source": [
    "# Alcoholism data set (source = Wooldridge, Introductory Econometrics)"
   ]
  },
  {
   "cell_type": "code",
   "execution_count": 1,
   "metadata": {
    "ExecuteTime": {
     "end_time": "2020-05-20T22:35:52.939899Z",
     "start_time": "2020-05-20T22:35:51.191892Z"
    }
   },
   "outputs": [],
   "source": [
    "import pandas as pd \n",
    "import numpy as np\n",
    "from sklearn.model_selection import train_test_split\n",
    "from sklearn.tree import DecisionTreeClassifier\n",
    "import matplotlib as mpl\n",
    "import matplotlib.pyplot as plt\n",
    "%matplotlib inline\n",
    "# import mglearn\n",
    "from sklearn import tree\n",
    "from sklearn.linear_model import LogisticRegression"
   ]
  },
  {
   "cell_type": "code",
   "execution_count": 3,
   "metadata": {
    "ExecuteTime": {
     "end_time": "2020-05-20T22:36:09.755309Z",
     "start_time": "2020-05-20T22:36:09.604592Z"
    }
   },
   "outputs": [
    {
     "data": {
      "text/html": [
       "<div>\n",
       "<style scoped>\n",
       "    .dataframe tbody tr th:only-of-type {\n",
       "        vertical-align: middle;\n",
       "    }\n",
       "\n",
       "    .dataframe tbody tr th {\n",
       "        vertical-align: top;\n",
       "    }\n",
       "\n",
       "    .dataframe thead th {\n",
       "        text-align: right;\n",
       "    }\n",
       "</style>\n",
       "<table border=\"1\" class=\"dataframe\">\n",
       "  <thead>\n",
       "    <tr style=\"text-align: right;\">\n",
       "      <th></th>\n",
       "      <th>id</th>\n",
       "      <th>abuse</th>\n",
       "      <th>status</th>\n",
       "      <th>unemrate</th>\n",
       "      <th>age</th>\n",
       "      <th>educ</th>\n",
       "      <th>married</th>\n",
       "      <th>famsize</th>\n",
       "      <th>white</th>\n",
       "      <th>exhealth</th>\n",
       "      <th>...</th>\n",
       "      <th>qrt2</th>\n",
       "      <th>qrt3</th>\n",
       "      <th>beertax</th>\n",
       "      <th>cigtax</th>\n",
       "      <th>ethanol</th>\n",
       "      <th>mothalc</th>\n",
       "      <th>fathalc</th>\n",
       "      <th>livealc</th>\n",
       "      <th>inwf</th>\n",
       "      <th>employ</th>\n",
       "    </tr>\n",
       "  </thead>\n",
       "  <tbody>\n",
       "    <tr>\n",
       "      <th>0</th>\n",
       "      <td>1</td>\n",
       "      <td>1</td>\n",
       "      <td>1</td>\n",
       "      <td>4.0</td>\n",
       "      <td>50</td>\n",
       "      <td>4</td>\n",
       "      <td>1</td>\n",
       "      <td>1</td>\n",
       "      <td>1</td>\n",
       "      <td>0</td>\n",
       "      <td>...</td>\n",
       "      <td>0</td>\n",
       "      <td>0</td>\n",
       "      <td>0.334</td>\n",
       "      <td>38.0</td>\n",
       "      <td>2.03946</td>\n",
       "      <td>0</td>\n",
       "      <td>0</td>\n",
       "      <td>0</td>\n",
       "      <td>0</td>\n",
       "      <td>0</td>\n",
       "    </tr>\n",
       "    <tr>\n",
       "      <th>1</th>\n",
       "      <td>2</td>\n",
       "      <td>0</td>\n",
       "      <td>3</td>\n",
       "      <td>4.0</td>\n",
       "      <td>37</td>\n",
       "      <td>12</td>\n",
       "      <td>1</td>\n",
       "      <td>5</td>\n",
       "      <td>1</td>\n",
       "      <td>0</td>\n",
       "      <td>...</td>\n",
       "      <td>0</td>\n",
       "      <td>0</td>\n",
       "      <td>0.334</td>\n",
       "      <td>38.0</td>\n",
       "      <td>2.03946</td>\n",
       "      <td>0</td>\n",
       "      <td>0</td>\n",
       "      <td>0</td>\n",
       "      <td>1</td>\n",
       "      <td>1</td>\n",
       "    </tr>\n",
       "    <tr>\n",
       "      <th>2</th>\n",
       "      <td>3</td>\n",
       "      <td>0</td>\n",
       "      <td>3</td>\n",
       "      <td>4.0</td>\n",
       "      <td>53</td>\n",
       "      <td>9</td>\n",
       "      <td>1</td>\n",
       "      <td>3</td>\n",
       "      <td>1</td>\n",
       "      <td>1</td>\n",
       "      <td>...</td>\n",
       "      <td>0</td>\n",
       "      <td>0</td>\n",
       "      <td>0.334</td>\n",
       "      <td>38.0</td>\n",
       "      <td>2.03946</td>\n",
       "      <td>0</td>\n",
       "      <td>0</td>\n",
       "      <td>0</td>\n",
       "      <td>1</td>\n",
       "      <td>1</td>\n",
       "    </tr>\n",
       "    <tr>\n",
       "      <th>3</th>\n",
       "      <td>4</td>\n",
       "      <td>0</td>\n",
       "      <td>3</td>\n",
       "      <td>3.3</td>\n",
       "      <td>59</td>\n",
       "      <td>11</td>\n",
       "      <td>1</td>\n",
       "      <td>1</td>\n",
       "      <td>1</td>\n",
       "      <td>1</td>\n",
       "      <td>...</td>\n",
       "      <td>0</td>\n",
       "      <td>0</td>\n",
       "      <td>0.240</td>\n",
       "      <td>26.0</td>\n",
       "      <td>2.44998</td>\n",
       "      <td>0</td>\n",
       "      <td>0</td>\n",
       "      <td>0</td>\n",
       "      <td>1</td>\n",
       "      <td>1</td>\n",
       "    </tr>\n",
       "    <tr>\n",
       "      <th>4</th>\n",
       "      <td>5</td>\n",
       "      <td>0</td>\n",
       "      <td>3</td>\n",
       "      <td>3.3</td>\n",
       "      <td>43</td>\n",
       "      <td>10</td>\n",
       "      <td>1</td>\n",
       "      <td>1</td>\n",
       "      <td>1</td>\n",
       "      <td>1</td>\n",
       "      <td>...</td>\n",
       "      <td>0</td>\n",
       "      <td>0</td>\n",
       "      <td>0.240</td>\n",
       "      <td>26.0</td>\n",
       "      <td>2.44998</td>\n",
       "      <td>0</td>\n",
       "      <td>1</td>\n",
       "      <td>1</td>\n",
       "      <td>1</td>\n",
       "      <td>1</td>\n",
       "    </tr>\n",
       "  </tbody>\n",
       "</table>\n",
       "<p>5 rows × 29 columns</p>\n",
       "</div>"
      ],
      "text/plain": [
       "   id  abuse  status  unemrate  age  educ  married  famsize  white  exhealth  \\\n",
       "0   1      1       1       4.0   50     4        1        1      1         0   \n",
       "1   2      0       3       4.0   37    12        1        5      1         0   \n",
       "2   3      0       3       4.0   53     9        1        3      1         1   \n",
       "3   4      0       3       3.3   59    11        1        1      1         1   \n",
       "4   5      0       3       3.3   43    10        1        1      1         1   \n",
       "\n",
       "   ...  qrt2  qrt3  beertax  cigtax  ethanol  mothalc  fathalc  livealc  inwf  \\\n",
       "0  ...     0     0    0.334    38.0  2.03946        0        0        0     0   \n",
       "1  ...     0     0    0.334    38.0  2.03946        0        0        0     1   \n",
       "2  ...     0     0    0.334    38.0  2.03946        0        0        0     1   \n",
       "3  ...     0     0    0.240    26.0  2.44998        0        0        0     1   \n",
       "4  ...     0     0    0.240    26.0  2.44998        0        1        1     1   \n",
       "\n",
       "   employ  \n",
       "0       0  \n",
       "1       1  \n",
       "2       1  \n",
       "3       1  \n",
       "4       1  \n",
       "\n",
       "[5 rows x 29 columns]"
      ]
     },
     "execution_count": 3,
     "metadata": {},
     "output_type": "execute_result"
    }
   ],
   "source": [
    "# Load data set\n",
    "alcohol = pd.read_csv(\"alcohol.txt\")\n",
    "# Remove squaredal terms - these terms i\n",
    "alcohol.drop(['agesq','beertaxsq','cigtaxsq','ethanolsq','educsq'],axis=1,inplace=True)\n",
    "alcohol.head()"
   ]
  },
  {
   "cell_type": "code",
   "execution_count": 4,
   "metadata": {
    "ExecuteTime": {
     "end_time": "2020-05-20T22:37:53.510273Z",
     "start_time": "2020-05-20T22:37:52.875739Z"
    }
   },
   "outputs": [
    {
     "data": {
      "text/plain": [
       "(array([8848.,    0.,    0.,    0.,    0.,    0.,    0.,    0.,    0.,\n",
       "         974.]),\n",
       " array([0. , 0.1, 0.2, 0.3, 0.4, 0.5, 0.6, 0.7, 0.8, 0.9, 1. ]),\n",
       " <a list of 10 Patch objects>)"
      ]
     },
     "execution_count": 4,
     "metadata": {},
     "output_type": "execute_result"
    },
    {
     "data": {
      "image/png": "[encoded data removed]",
      "text/plain": [
       "<Figure size 432x288 with 1 Axes>"
      ]
     },
     "metadata": {
      "needs_background": "light"
     },
     "output_type": "display_data"
    }
   ],
   "source": [
    "# this plot shows how unbalanced the data set is\n",
    "plt.hist(alcohol.abuse)"
   ]
  },
  {
   "cell_type": "markdown",
   "metadata": {},
   "source": [
    "# Some simple rebalancing"
   ]
  },
  {
   "cell_type": "code",
   "execution_count": 5,
   "metadata": {
    "ExecuteTime": {
     "end_time": "2020-05-20T22:38:16.975471Z",
     "start_time": "2020-05-20T22:38:16.893018Z"
    }
   },
   "outputs": [
    {
     "name": "stdout",
     "output_type": "stream",
     "text": [
      "8848\n",
      "974\n"
     ]
    }
   ],
   "source": [
    "# generate special classes for types\n",
    "count0, count1 = alcohol.abuse.value_counts()\n",
    "aclass0 = alcohol[alcohol.abuse==0]\n",
    "aclass1 = alcohol[alcohol.abuse==1]\n",
    "print(count0)\n",
    "print(count1)"
   ]
  },
  {
   "cell_type": "markdown",
   "metadata": {},
   "source": [
    "# Over sample class 1"
   ]
  },
  {
   "cell_type": "code",
   "execution_count": 5,
   "metadata": {},
   "outputs": [
    {
     "name": "stdout",
     "output_type": "stream",
     "text": [
      "8848\n"
     ]
    },
    {
     "data": {
      "text/plain": [
       "(array([8848.,    0.,    0.,    0.,    0.,    0.,    0.,    0.,    0.,\n",
       "        8848.]),\n",
       " array([0. , 0.1, 0.2, 0.3, 0.4, 0.5, 0.6, 0.7, 0.8, 0.9, 1. ]),\n",
       " <a list of 10 Patch objects>)"
      ]
     },
     "execution_count": 5,
     "metadata": {},
     "output_type": "execute_result"
    },
    {
     "data": {
      "image/png": "[encoded data removed]",
      "text/plain": [
       "<Figure size 432x288 with 1 Axes>"
      ]
     },
     "metadata": {
      "needs_background": "light"
     },
     "output_type": "display_data"
    }
   ],
   "source": [
    "# over sampling for class 1\n",
    "# Generate a new sample of count0 items of count1\n",
    "over1 = aclass1.sample(count0,replace=True)\n",
    "alcoholos = pd.concat([aclass0,over1],axis=0)\n",
    "print(len(over1))\n",
    "plt.hist(alcoholos.abuse)"
   ]
  },
  {
   "cell_type": "markdown",
   "metadata": {},
   "source": [
    "# Undersample Class 0"
   ]
  },
  {
   "cell_type": "code",
   "execution_count": 6,
   "metadata": {},
   "outputs": [],
   "source": [
    "# under sampling\n",
    "# Generate sample of class 0 types matching number of class 1 types\n",
    "under0 = aclass0.sample(count1)\n",
    "alcoholus = pd.concat([under0,aclass1],axis=0)"
   ]
  },
  {
   "cell_type": "code",
   "execution_count": 7,
   "metadata": {},
   "outputs": [
    {
     "data": {
      "text/plain": [
       "(array([974.,   0.,   0.,   0.,   0.,   0.,   0.,   0.,   0., 974.]),\n",
       " array([0. , 0.1, 0.2, 0.3, 0.4, 0.5, 0.6, 0.7, 0.8, 0.9, 1. ]),\n",
       " <a list of 10 Patch objects>)"
      ]
     },
     "execution_count": 7,
     "metadata": {},
     "output_type": "execute_result"
    },
    {
     "data": {
      "image/png": "[encoded data removed]",
      "text/plain": [
       "<Figure size 432x288 with 1 Axes>"
      ]
     },
     "metadata": {
      "needs_background": "light"
     },
     "output_type": "display_data"
    }
   ],
   "source": [
    "plt.hist(alcoholus.abuse)"
   ]
  },
  {
   "cell_type": "code",
   "execution_count": 8,
   "metadata": {},
   "outputs": [
    {
     "name": "stdout",
     "output_type": "stream",
     "text": [
      "0.5\n"
     ]
    },
    {
     "data": {
      "text/html": [
       "<div>\n",
       "<style scoped>\n",
       "    .dataframe tbody tr th:only-of-type {\n",
       "        vertical-align: middle;\n",
       "    }\n",
       "\n",
       "    .dataframe tbody tr th {\n",
       "        vertical-align: top;\n",
       "    }\n",
       "\n",
       "    .dataframe thead th {\n",
       "        text-align: right;\n",
       "    }\n",
       "</style>\n",
       "<table border=\"1\" class=\"dataframe\">\n",
       "  <thead>\n",
       "    <tr style=\"text-align: right;\">\n",
       "      <th></th>\n",
       "      <th>status</th>\n",
       "      <th>unemrate</th>\n",
       "      <th>age</th>\n",
       "      <th>educ</th>\n",
       "      <th>married</th>\n",
       "      <th>famsize</th>\n",
       "      <th>white</th>\n",
       "      <th>exhealth</th>\n",
       "      <th>vghealth</th>\n",
       "      <th>goodhealth</th>\n",
       "      <th>...</th>\n",
       "      <th>qrt2</th>\n",
       "      <th>qrt3</th>\n",
       "      <th>beertax</th>\n",
       "      <th>cigtax</th>\n",
       "      <th>ethanol</th>\n",
       "      <th>mothalc</th>\n",
       "      <th>fathalc</th>\n",
       "      <th>livealc</th>\n",
       "      <th>inwf</th>\n",
       "      <th>employ</th>\n",
       "    </tr>\n",
       "  </thead>\n",
       "  <tbody>\n",
       "    <tr>\n",
       "      <th>3499</th>\n",
       "      <td>3</td>\n",
       "      <td>3.3</td>\n",
       "      <td>25</td>\n",
       "      <td>12</td>\n",
       "      <td>1</td>\n",
       "      <td>3</td>\n",
       "      <td>1</td>\n",
       "      <td>1</td>\n",
       "      <td>0</td>\n",
       "      <td>0</td>\n",
       "      <td>...</td>\n",
       "      <td>1</td>\n",
       "      <td>0</td>\n",
       "      <td>0.240</td>\n",
       "      <td>26.0</td>\n",
       "      <td>2.44998</td>\n",
       "      <td>0</td>\n",
       "      <td>0</td>\n",
       "      <td>0</td>\n",
       "      <td>1</td>\n",
       "      <td>1</td>\n",
       "    </tr>\n",
       "    <tr>\n",
       "      <th>2114</th>\n",
       "      <td>3</td>\n",
       "      <td>5.8</td>\n",
       "      <td>31</td>\n",
       "      <td>14</td>\n",
       "      <td>1</td>\n",
       "      <td>4</td>\n",
       "      <td>1</td>\n",
       "      <td>0</td>\n",
       "      <td>1</td>\n",
       "      <td>0</td>\n",
       "      <td>...</td>\n",
       "      <td>0</td>\n",
       "      <td>0</td>\n",
       "      <td>0.189</td>\n",
       "      <td>27.0</td>\n",
       "      <td>2.01552</td>\n",
       "      <td>0</td>\n",
       "      <td>0</td>\n",
       "      <td>0</td>\n",
       "      <td>1</td>\n",
       "      <td>1</td>\n",
       "    </tr>\n",
       "    <tr>\n",
       "      <th>1182</th>\n",
       "      <td>3</td>\n",
       "      <td>5.8</td>\n",
       "      <td>48</td>\n",
       "      <td>12</td>\n",
       "      <td>1</td>\n",
       "      <td>1</td>\n",
       "      <td>1</td>\n",
       "      <td>0</td>\n",
       "      <td>0</td>\n",
       "      <td>1</td>\n",
       "      <td>...</td>\n",
       "      <td>0</td>\n",
       "      <td>0</td>\n",
       "      <td>0.283</td>\n",
       "      <td>13.0</td>\n",
       "      <td>1.56486</td>\n",
       "      <td>0</td>\n",
       "      <td>0</td>\n",
       "      <td>0</td>\n",
       "      <td>1</td>\n",
       "      <td>1</td>\n",
       "    </tr>\n",
       "    <tr>\n",
       "      <th>6741</th>\n",
       "      <td>3</td>\n",
       "      <td>3.8</td>\n",
       "      <td>58</td>\n",
       "      <td>14</td>\n",
       "      <td>1</td>\n",
       "      <td>2</td>\n",
       "      <td>1</td>\n",
       "      <td>0</td>\n",
       "      <td>1</td>\n",
       "      <td>0</td>\n",
       "      <td>...</td>\n",
       "      <td>0</td>\n",
       "      <td>1</td>\n",
       "      <td>0.075</td>\n",
       "      <td>25.0</td>\n",
       "      <td>2.23350</td>\n",
       "      <td>0</td>\n",
       "      <td>0</td>\n",
       "      <td>0</td>\n",
       "      <td>1</td>\n",
       "      <td>1</td>\n",
       "    </tr>\n",
       "    <tr>\n",
       "      <th>5253</th>\n",
       "      <td>2</td>\n",
       "      <td>5.0</td>\n",
       "      <td>51</td>\n",
       "      <td>16</td>\n",
       "      <td>1</td>\n",
       "      <td>5</td>\n",
       "      <td>1</td>\n",
       "      <td>0</td>\n",
       "      <td>1</td>\n",
       "      <td>0</td>\n",
       "      <td>...</td>\n",
       "      <td>0</td>\n",
       "      <td>1</td>\n",
       "      <td>1.440</td>\n",
       "      <td>24.0</td>\n",
       "      <td>2.60184</td>\n",
       "      <td>0</td>\n",
       "      <td>1</td>\n",
       "      <td>1</td>\n",
       "      <td>1</td>\n",
       "      <td>0</td>\n",
       "    </tr>\n",
       "  </tbody>\n",
       "</table>\n",
       "<p>5 rows × 27 columns</p>\n",
       "</div>"
      ],
      "text/plain": [
       "      status  unemrate  age  educ  married  famsize  white  exhealth  \\\n",
       "3499       3       3.3   25    12        1        3      1         1   \n",
       "2114       3       5.8   31    14        1        4      1         0   \n",
       "1182       3       5.8   48    12        1        1      1         0   \n",
       "6741       3       3.8   58    14        1        2      1         0   \n",
       "5253       2       5.0   51    16        1        5      1         0   \n",
       "\n",
       "      vghealth  goodhealth  ...  qrt2  qrt3  beertax  cigtax  ethanol  \\\n",
       "3499         0           0  ...     1     0    0.240    26.0  2.44998   \n",
       "2114         1           0  ...     0     0    0.189    27.0  2.01552   \n",
       "1182         0           1  ...     0     0    0.283    13.0  1.56486   \n",
       "6741         1           0  ...     0     1    0.075    25.0  2.23350   \n",
       "5253         1           0  ...     0     1    1.440    24.0  2.60184   \n",
       "\n",
       "      mothalc  fathalc  livealc  inwf  employ  \n",
       "3499        0        0        0     1       1  \n",
       "2114        0        0        0     1       1  \n",
       "1182        0        0        0     1       1  \n",
       "6741        0        0        0     1       1  \n",
       "5253        0        1        1     1       0  \n",
       "\n",
       "[5 rows x 27 columns]"
      ]
     },
     "execution_count": 8,
     "metadata": {},
     "output_type": "execute_result"
    }
   ],
   "source": [
    "# set up data, and check if balanced\n",
    "y = alcoholus.abuse\n",
    "X = alcoholus.iloc[:,2:33]\n",
    "print(np.mean(y))\n",
    "X.head()\n",
    "# Note that the daa set is now perfectly balanced"
   ]
  },
  {
   "cell_type": "markdown",
   "metadata": {},
   "source": [
    "### Example of two simple classifiers\n",
    "\n",
    "**Problem 1:** Logistic regression"
   ]
  },
  {
   "cell_type": "code",
   "execution_count": 9,
   "metadata": {},
   "outputs": [
    {
     "name": "stdout",
     "output_type": "stream",
     "text": [
      "0.5941136208076659\n",
      "0.5051334702258727\n"
     ]
    }
   ],
   "source": [
    "lc = LogisticRegression(max_iter=1000)\n",
    "X_train, X_test, y_train, y_test = train_test_split( X, y )\n",
    "lc.fit(X_train,y_train)\n",
    "print(lc.score(X_train,y_train))\n",
    "print(lc.score(X_test,y_test))"
   ]
  },
  {
   "cell_type": "code",
   "execution_count": 37,
   "metadata": {},
   "outputs": [
    {
     "name": "stdout",
     "output_type": "stream",
     "text": [
      "C= 1e-05\n",
      "0.5106981519507187\n",
      "0.48848049281314176\n",
      "C= 0.0001\n",
      "0.5506844626967831\n",
      "0.5181930184804928\n",
      "C= 0.001\n",
      "0.5744284736481862\n",
      "0.5541273100616015\n",
      "C= 0.01\n",
      "0.5774811772758385\n",
      "0.5475154004106777\n",
      "C= 0.1\n",
      "0.5797467488021902\n",
      "0.5469815195071869\n",
      "C= 1.0\n",
      "0.580691307323751\n",
      "0.5492607802874744\n",
      "C= 10.0\n",
      "0.5803353867214237\n",
      "0.5445790554414784\n",
      "C= 100.0\n",
      "0.582299794661191\n",
      "0.5475359342915811\n",
      "C= 1000.0\n",
      "0.5803764544832307\n",
      "0.5471868583162218\n",
      "C= 10000.0\n",
      "0.5798494182067077\n",
      "0.5489322381930184\n",
      "C= 100000.0\n",
      "0.5795277207392198\n",
      "0.547700205338809\n",
      "C= 1000000.0\n",
      "0.5796030116358658\n",
      "0.5503285420944559\n",
      "C= 10000000.0\n",
      "0.5800958247775495\n",
      "0.5459753593429157\n",
      "C= 100000000.0\n",
      "0.5793702943189597\n",
      "0.5490965092402464\n",
      "C= 1000000000.0\n",
      "0.5807049965776865\n",
      "0.5496303901437372\n"
     ]
    },
    {
     "data": {
      "image/png": "[encoded data removed]",
      "text/plain": [
       "<Figure size 432x288 with 1 Axes>"
      ]
     },
     "metadata": {
      "needs_background": "light"
     },
     "output_type": "display_data"
    }
   ],
   "source": [
    "# Now manual grid search\n",
    "from sklearn.preprocessing import StandardScaler\n",
    "from sklearn.model_selection import cross_validate\n",
    "from sklearn.model_selection import ShuffleSplit\n",
    "from sklearn.pipeline import make_pipeline\n",
    "trainMean = []\n",
    "testMean  = []\n",
    "CVal = []\n",
    "Clist = np.power(10.,range(-5,10))\n",
    "nmc = 100\n",
    "shuffle = ShuffleSplit(n_splits=nmc, test_size=.25)\n",
    "for CParam in Clist:\n",
    "    fullModel = make_pipeline(StandardScaler(), LogisticRegression(C=CParam,max_iter=1000))\n",
    "    CVInfo = cross_validate(fullModel, X, y, cv=shuffle,return_train_score=True)\n",
    "    print(\"C=\",CParam)\n",
    "    m1 = np.mean(CVInfo['train_score'])\n",
    "    print(m1)\n",
    "    CVal.append(CParam)\n",
    "    trainMean.append(m1)\n",
    "    m2 = np.mean(CVInfo['test_score'])\n",
    "    testMean.append(m2)\n",
    "    print(m2)\n",
    "plt.semilogx(CVal,trainMean,label=\"Train\")\n",
    "plt.semilogx(CVal,testMean,label=\"Test\")\n",
    "plt.legend()\n",
    "plt.grid()"
   ]
  },
  {
   "cell_type": "markdown",
   "metadata": {},
   "source": [
    "### Note that there isn't an easy to find max for C.  There is underfitting, but no overfitting"
   ]
  },
  {
   "cell_type": "markdown",
   "metadata": {},
   "source": [
    "# Problem 2: K-nearest neighbors"
   ]
  },
  {
   "cell_type": "code",
   "execution_count": 36,
   "metadata": {},
   "outputs": [
    {
     "name": "stdout",
     "output_type": "stream",
     "text": [
      "k= 10\n",
      "0.6309103353867214\n",
      "0.5164476386036961\n",
      "k= 50\n",
      "0.5888227241615333\n",
      "0.5430595482546202\n",
      "k= 100\n",
      "0.5823887748117729\n",
      "0.5522587268993839\n",
      "k= 200\n",
      "0.5597741273100616\n",
      "0.5396303901437371\n",
      "k= 300\n",
      "0.555325119780972\n",
      "0.5442505133470226\n",
      "k= 400\n",
      "0.543271731690623\n",
      "0.535687885010267\n",
      "k= 500\n",
      "0.5400547570157428\n",
      "0.527987679671458\n"
     ]
    },
    {
     "data": {
      "image/png": "[encoded data removed]",
      "text/plain": [
       "<Figure size 432x288 with 1 Axes>"
      ]
     },
     "metadata": {
      "needs_background": "light"
     },
     "output_type": "display_data"
    }
   ],
   "source": [
    "# Nearest neighbors\n",
    "nmc = 100\n",
    "shuffle = ShuffleSplit(n_splits=nmc, test_size=.25,)\n",
    "from sklearn.neighbors import KNeighborsClassifier\n",
    "trainMean = []\n",
    "testMean  = []\n",
    "KVal = []\n",
    "kneighbors = [10, 50, 100, 200, 300, 400, 500]\n",
    "for k in kneighbors:\n",
    "    fullModel = make_pipeline(StandardScaler(), KNeighborsClassifier(n_neighbors=k))\n",
    "    CVInfo = cross_validate(fullModel, X, y, cv=shuffle,return_train_score=True)\n",
    "    print(\"k=\",k)\n",
    "    m1 = np.mean(CVInfo['train_score'])\n",
    "    print(m1)\n",
    "    KVal.append(k)\n",
    "    trainMean.append(m1)\n",
    "    m2 = np.mean(CVInfo['test_score'])\n",
    "    testMean.append(m2)\n",
    "    print(m2)\n",
    "plt.plot(KVal,trainMean,label=\"Train\")\n",
    "plt.plot(KVal,testMean,label=\"Test\")\n",
    "plt.legend()\n",
    "plt.grid()"
   ]
  },
  {
   "cell_type": "markdown",
   "metadata": {},
   "source": [
    "### Slight optimum near k=100\n",
    "### Overfitting is clear"
   ]
  },
  {
   "cell_type": "markdown",
   "metadata": {},
   "source": [
    "# Problem 3: Random Forest"
   ]
  },
  {
   "cell_type": "code",
   "execution_count": 38,
   "metadata": {},
   "outputs": [
    {
     "name": "stdout",
     "output_type": "stream",
     "text": [
      "    rank_test_score  mean_test_score param_max_depth param_max_features\n",
      "0                50         0.537721               2                  1\n",
      "1                34         0.545195               2                  2\n",
      "2                25         0.547331               2                  3\n",
      "3                14         0.548994               2                  4\n",
      "4                 6         0.550021               2                  5\n",
      "5                12         0.549158               2                  6\n",
      "6                 1         0.552628               2                  7\n",
      "7                26         0.547331               2                  8\n",
      "8                 5         0.550308               2                  9\n",
      "9                 3         0.550534               2                 10\n",
      "10               35         0.544887               4                  1\n",
      "11               23         0.547413               4                  2\n",
      "12               28         0.546632               4                  3\n",
      "13               16         0.548460               4                  4\n",
      "14               21         0.547803               4                  5\n",
      "15               13         0.549117               4                  6\n",
      "16                7         0.549918               4                  7\n",
      "17               20         0.547864               4                  8\n",
      "18                8         0.549487               4                  9\n",
      "19               18         0.548008               4                 10\n",
      "20               46         0.541273               6                  1\n",
      "21               40         0.543142               6                  2\n",
      "22               33         0.545832               6                  3\n",
      "23               19         0.547967               6                  4\n",
      "24               22         0.547700               6                  5\n",
      "25               15         0.548624               6                  6\n",
      "26                3         0.550534               6                  7\n",
      "27               10         0.549405               6                  8\n",
      "28                9         0.549446               6                  9\n",
      "29                2         0.552053               6                 10\n",
      "30               48         0.538891               8                  1\n",
      "31               41         0.542690               8                  2\n",
      "32               29         0.546612               8                  3\n",
      "33               32         0.545975               8                  4\n",
      "34               27         0.547248               8                  5\n",
      "35               24         0.547351               8                  6\n",
      "36               17         0.548255               8                  7\n",
      "37               11         0.549384               8                  8\n",
      "38               31         0.546304               8                  9\n",
      "39               30         0.546448               8                 10\n",
      "40               47         0.539979              10                  1\n",
      "41               49         0.537782              10                  2\n",
      "42               44         0.541499              10                  3\n",
      "43               42         0.542320              10                  4\n",
      "44               43         0.541643              10                  5\n",
      "45               39         0.543409              10                  6\n",
      "46               36         0.544312              10                  7\n",
      "47               45         0.541458              10                  8\n",
      "48               37         0.544045              10                  9\n",
      "49               38         0.543593              10                 10\n"
     ]
    }
   ],
   "source": [
    "# Set up a grid search again\n",
    "# No scaling on a forest (why?)\n",
    "from sklearn.ensemble import RandomForestClassifier\n",
    "from sklearn.model_selection import GridSearchCV\n",
    "from sklearn.model_selection import ShuffleSplit\n",
    "nmc = 100\n",
    "featureRange = np.arange(1,11)\n",
    "param_grid={'max_depth':[2,4,6,8,10],'max_features':featureRange,'n_estimators':[100]}\n",
    "# set up cross-validation shuffles\n",
    "cvf = ShuffleSplit(test_size=0.25,n_splits=nmc)\n",
    "# set up search\n",
    "grid_search=GridSearchCV(RandomForestClassifier(),param_grid,cv=cvf,return_train_score=True)\n",
    "# implement search\n",
    "grid_search.fit(X,y)\n",
    "# move results into DataFrame\n",
    "results = pd.DataFrame(grid_search.cv_results_)\n",
    "print(results[['rank_test_score','mean_test_score','param_max_depth','param_max_features']])"
   ]
  },
  {
   "cell_type": "code",
   "execution_count": 35,
   "metadata": {},
   "outputs": [
    {
     "name": "stdout",
     "output_type": "stream",
     "text": [
      "depth= 2\n",
      "0.5890349075975359\n",
      "0.5498357289527721\n",
      "depth= 4\n",
      "0.6462354551676934\n",
      "0.5483367556468173\n",
      "depth= 6\n",
      "0.7382135523613962\n",
      "0.539958932238193\n",
      "depth= 8\n",
      "0.8392402464065707\n",
      "0.5416016427104724\n"
     ]
    }
   ],
   "source": [
    "# Just a recheck at the optimal params with a sweep across tree depth\n",
    "from sklearn.ensemble import RandomForestClassifier\n",
    "nmc = 100\n",
    "shuffle = ShuffleSplit(n_splits=nmc, test_size=.25,)\n",
    "depth = np.array([2,4,6,8])\n",
    "for d in depth:\n",
    "    forestModel= RandomForestClassifier(n_estimators=25,max_depth=d, max_features=7)\n",
    "    CVInfo = cross_validate(forestModel, X, y, cv=shuffle,return_train_score=True)\n",
    "    print(\"depth=\",d)\n",
    "    print(np.mean(CVInfo['train_score']))\n",
    "    print(np.mean(CVInfo['test_score']))"
   ]
  },
  {
   "cell_type": "markdown",
   "metadata": {},
   "source": [
    "# Summary\n",
    "My results appear to be as follows:\n",
    "\n",
    "* For the logistic regression, optimal C = 0.01\n",
    "* For KNN k = 100\n",
    "* For forest, depth = 2, max_features = 7\n",
    "\n",
    "The results suggest a near tie between all of them.  Slide advantage to the Random Forest, but not much.\n",
    "\n",
    "Note also that all are pretty close to random guessing where accuracy = 0.5\n"
   ]
  },
  {
   "cell_type": "code",
   "execution_count": null,
   "metadata": {},
   "outputs": [],
   "source": []
  }
 ],
 "metadata": {
  "kernelspec": {
   "display_name": "Python 3",
   "language": "python",
   "name": "python3"
  },
  "language_info": {
   "codemirror_mode": {
    "name": "ipython",
    "version": 3
   },
   "file_extension": ".py",
   "mimetype": "text/x-python",
   "name": "python",
   "nbconvert_exporter": "python",
   "pygments_lexer": "ipython3",
   "version": "3.7.6"
  },
  "toc": {
   "base_numbering": 1,
   "nav_menu": {},
   "number_sections": true,
   "sideBar": true,
   "skip_h1_title": false,
   "title_cell": "Table of Contents",
   "title_sidebar": "Contents",
   "toc_cell": false,
   "toc_position": {},
   "toc_section_display": true,
   "toc_window_display": false
  },
  "varInspector": {
   "cols": {
    "lenName": 16,
    "lenType": 16,
    "lenVar": 40
   },
   "kernels_config": {
    "python": {
     "delete_cmd_postfix": "",
     "delete_cmd_prefix": "del ",
     "library": "var_list.py",
     "varRefreshCmd": "print(var_dic_list())"
    },
    "r": {
     "delete_cmd_postfix": ") ",
     "delete_cmd_prefix": "rm(",
     "library": "var_list.r",
     "varRefreshCmd": "cat(var_dic_list()) "
    }
   },
   "oldHeight": 478.99966600000005,
   "position": {
    "height": "492.99px",
    "left": "336.333px",
    "right": "20px",
    "top": "120px",
    "width": "551.99px"
   },
   "types_to_exclude": [
    "module",
    "function",
    "builtin_function_or_method",
    "instance",
    "_Feature"
   ],
   "varInspector_section_display": "block",
   "window_display": false
  }
 },
 "nbformat": 4,
 "nbformat_minor": 4
}
